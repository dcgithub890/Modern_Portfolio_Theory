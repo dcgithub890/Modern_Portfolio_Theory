{
 "cells": [
  {
   "cell_type": "code",
   "execution_count": 1,
   "id": "3a5c8d8c",
   "metadata": {},
   "outputs": [],
   "source": [
    "import numpy as np\n",
    "import pandas as pd\n",
    "import datetime as dt\n",
    "import yfinance as yf\n",
    "import matplotlib.pyplot as plt\n",
    "from scipy.stats import norm\n",
    "import scipy as sc"
   ]
  },
  {
   "cell_type": "code",
   "execution_count": 2,
   "id": "ef7bbef2",
   "metadata": {},
   "outputs": [
    {
     "name": "stdout",
     "output_type": "stream",
     "text": [
      "[*********************100%%**********************]  2 of 2 completed\n"
     ]
    }
   ],
   "source": [
    "df = yf.download([\"TSLA\",\"BHP\"],start=\"2010-01-01\",end = \"2020-01-01\")\n",
    "returns =np.log(1+df[\"Adj Close\"]).pct_change()"
   ]
  },
  {
   "cell_type": "code",
   "execution_count": 3,
   "id": "81731c20",
   "metadata": {},
   "outputs": [
    {
     "data": {
      "text/html": [
       "<div>\n",
       "<style scoped>\n",
       "    .dataframe tbody tr th:only-of-type {\n",
       "        vertical-align: middle;\n",
       "    }\n",
       "\n",
       "    .dataframe tbody tr th {\n",
       "        vertical-align: top;\n",
       "    }\n",
       "\n",
       "    .dataframe thead th {\n",
       "        text-align: right;\n",
       "    }\n",
       "</style>\n",
       "<table border=\"1\" class=\"dataframe\">\n",
       "  <thead>\n",
       "    <tr style=\"text-align: right;\">\n",
       "      <th></th>\n",
       "      <th>BHP</th>\n",
       "      <th>TSLA</th>\n",
       "    </tr>\n",
       "    <tr>\n",
       "      <th>Date</th>\n",
       "      <th></th>\n",
       "      <th></th>\n",
       "    </tr>\n",
       "  </thead>\n",
       "  <tbody>\n",
       "    <tr>\n",
       "      <th>2010-01-04</th>\n",
       "      <td>NaN</td>\n",
       "      <td>NaN</td>\n",
       "    </tr>\n",
       "    <tr>\n",
       "      <th>2010-01-05</th>\n",
       "      <td>0.000033</td>\n",
       "      <td>NaN</td>\n",
       "    </tr>\n",
       "    <tr>\n",
       "      <th>2010-01-06</th>\n",
       "      <td>0.004303</td>\n",
       "      <td>NaN</td>\n",
       "    </tr>\n",
       "    <tr>\n",
       "      <th>2010-01-07</th>\n",
       "      <td>-0.002314</td>\n",
       "      <td>NaN</td>\n",
       "    </tr>\n",
       "    <tr>\n",
       "      <th>2010-01-08</th>\n",
       "      <td>0.003584</td>\n",
       "      <td>NaN</td>\n",
       "    </tr>\n",
       "    <tr>\n",
       "      <th>...</th>\n",
       "      <td>...</td>\n",
       "      <td>...</td>\n",
       "    </tr>\n",
       "    <tr>\n",
       "      <th>2019-12-24</th>\n",
       "      <td>-0.000287</td>\n",
       "      <td>0.004098</td>\n",
       "    </tr>\n",
       "    <tr>\n",
       "      <th>2019-12-26</th>\n",
       "      <td>0.001672</td>\n",
       "      <td>0.003800</td>\n",
       "    </tr>\n",
       "    <tr>\n",
       "      <th>2019-12-27</th>\n",
       "      <td>0.000570</td>\n",
       "      <td>-0.000370</td>\n",
       "    </tr>\n",
       "    <tr>\n",
       "      <th>2019-12-30</th>\n",
       "      <td>-0.000998</td>\n",
       "      <td>-0.010570</td>\n",
       "    </tr>\n",
       "    <tr>\n",
       "      <th>2019-12-31</th>\n",
       "      <td>-0.000048</td>\n",
       "      <td>0.002507</td>\n",
       "    </tr>\n",
       "  </tbody>\n",
       "</table>\n",
       "<p>2516 rows × 2 columns</p>\n",
       "</div>"
      ],
      "text/plain": [
       "                 BHP      TSLA\n",
       "Date                          \n",
       "2010-01-04       NaN       NaN\n",
       "2010-01-05  0.000033       NaN\n",
       "2010-01-06  0.004303       NaN\n",
       "2010-01-07 -0.002314       NaN\n",
       "2010-01-08  0.003584       NaN\n",
       "...              ...       ...\n",
       "2019-12-24 -0.000287  0.004098\n",
       "2019-12-26  0.001672  0.003800\n",
       "2019-12-27  0.000570 -0.000370\n",
       "2019-12-30 -0.000998 -0.010570\n",
       "2019-12-31 -0.000048  0.002507\n",
       "\n",
       "[2516 rows x 2 columns]"
      ]
     },
     "execution_count": 3,
     "metadata": {},
     "output_type": "execute_result"
    }
   ],
   "source": [
    "returns"
   ]
  },
  {
   "cell_type": "code",
   "execution_count": 4,
   "id": "970c5bb1",
   "metadata": {},
   "outputs": [],
   "source": [
    "weights = [0.5,0.5]"
   ]
  },
  {
   "cell_type": "code",
   "execution_count": 5,
   "id": "f00ed01f",
   "metadata": {},
   "outputs": [],
   "source": [
    "def portfolio_return(weights):\n",
    "    return  np.dot(returns.mean(),weights)\n",
    "  "
   ]
  },
  {
   "cell_type": "code",
   "execution_count": 6,
   "id": "55c8a601",
   "metadata": {},
   "outputs": [],
   "source": [
    "def portfolio_std(weights):\n",
    "    port_std = np.sqrt(np.dot(np.array(weights).transpose(),np.dot(returns.cov(),weights)))*np.sqrt(252)\n",
    "    return port_std"
   ]
  },
  {
   "cell_type": "code",
   "execution_count": 7,
   "id": "f592a5ba",
   "metadata": {},
   "outputs": [
    {
     "data": {
      "text/plain": [
       "0.13727385562726482"
      ]
     },
     "execution_count": 7,
     "metadata": {},
     "output_type": "execute_result"
    }
   ],
   "source": []
  },
  {
   "cell_type": "code",
   "execution_count": 8,
   "id": "14d99838",
   "metadata": {},
   "outputs": [],
   "source": [
    "def weightscreator(returns):\n",
    "    rand = np.random.random(len(returns.columns))\n",
    "    rand =rand/rand.sum()\n",
    "    return rand"
   ]
  },
  {
   "cell_type": "code",
   "execution_count": 9,
   "id": "7dd4fd1c",
   "metadata": {},
   "outputs": [
    {
     "data": {
      "text/plain": [
       "array([0.39997457, 0.60002543])"
      ]
     },
     "execution_count": 9,
     "metadata": {},
     "output_type": "execute_result"
    }
   ],
   "source": [
    "weightscreator(returns)"
   ]
  },
  {
   "cell_type": "code",
   "execution_count": 10,
   "id": "531f797b",
   "metadata": {},
   "outputs": [],
   "source": [
    "\n",
    "R=[]\n",
    "w=[]\n",
    "stds=[]\n",
    "\n",
    "for i in range (1000):\n",
    "    weights= weightscreator(returns)\n",
    "    R.append(portfolio_return(weights))\n",
    "    stds.append(portfolio_std(weights))\n",
    "    w.append(weights)"
   ]
  },
  {
   "cell_type": "code",
   "execution_count": 13,
   "id": "2c7501b7",
   "metadata": {},
   "outputs": [
    {
     "data": {
      "text/html": [
       "<div>\n",
       "<style scoped>\n",
       "    .dataframe tbody tr th:only-of-type {\n",
       "        vertical-align: middle;\n",
       "    }\n",
       "\n",
       "    .dataframe tbody tr th {\n",
       "        vertical-align: top;\n",
       "    }\n",
       "\n",
       "    .dataframe thead th {\n",
       "        text-align: right;\n",
       "    }\n",
       "</style>\n",
       "<table border=\"1\" class=\"dataframe\">\n",
       "  <thead>\n",
       "    <tr style=\"text-align: right;\">\n",
       "      <th></th>\n",
       "      <th>STD</th>\n",
       "      <th>Return</th>\n",
       "      <th>Weights</th>\n",
       "    </tr>\n",
       "  </thead>\n",
       "  <tbody>\n",
       "    <tr>\n",
       "      <th>0</th>\n",
       "      <td>0.122405</td>\n",
       "      <td>0.000277</td>\n",
       "      <td>[0.5870215207569727, 0.41297847924302744]</td>\n",
       "    </tr>\n",
       "    <tr>\n",
       "      <th>1</th>\n",
       "      <td>0.094647</td>\n",
       "      <td>0.000139</td>\n",
       "      <td>[0.8091924625030616, 0.19080753749693835]</td>\n",
       "    </tr>\n",
       "    <tr>\n",
       "      <th>2</th>\n",
       "      <td>0.186802</td>\n",
       "      <td>0.000488</td>\n",
       "      <td>[0.24668225490122547, 0.7533177450987746]</td>\n",
       "    </tr>\n",
       "    <tr>\n",
       "      <th>3</th>\n",
       "      <td>0.104088</td>\n",
       "      <td>0.000197</td>\n",
       "      <td>[0.7152103683146681, 0.28478963168533195]</td>\n",
       "    </tr>\n",
       "    <tr>\n",
       "      <th>4</th>\n",
       "      <td>0.233577</td>\n",
       "      <td>0.000624</td>\n",
       "      <td>[0.027534898824400723, 0.9724651011755993]</td>\n",
       "    </tr>\n",
       "    <tr>\n",
       "      <th>...</th>\n",
       "      <td>...</td>\n",
       "      <td>...</td>\n",
       "      <td>...</td>\n",
       "    </tr>\n",
       "    <tr>\n",
       "      <th>995</th>\n",
       "      <td>0.117191</td>\n",
       "      <td>0.000256</td>\n",
       "      <td>[0.6201842015323507, 0.3798157984676493]</td>\n",
       "    </tr>\n",
       "    <tr>\n",
       "      <th>996</th>\n",
       "      <td>0.127268</td>\n",
       "      <td>0.000295</td>\n",
       "      <td>[0.5575214162434782, 0.4424785837565218]</td>\n",
       "    </tr>\n",
       "    <tr>\n",
       "      <th>997</th>\n",
       "      <td>0.175445</td>\n",
       "      <td>0.000454</td>\n",
       "      <td>[0.3019698671178338, 0.6980301328821662]</td>\n",
       "    </tr>\n",
       "    <tr>\n",
       "      <th>998</th>\n",
       "      <td>0.160840</td>\n",
       "      <td>0.000408</td>\n",
       "      <td>[0.37500010611029755, 0.6249998938897023]</td>\n",
       "    </tr>\n",
       "    <tr>\n",
       "      <th>999</th>\n",
       "      <td>0.116070</td>\n",
       "      <td>0.000252</td>\n",
       "      <td>[0.6275716923974178, 0.37242830760258216]</td>\n",
       "    </tr>\n",
       "  </tbody>\n",
       "</table>\n",
       "<p>1000 rows × 3 columns</p>\n",
       "</div>"
      ],
      "text/plain": [
       "          STD    Return                                     Weights\n",
       "0    0.122405  0.000277   [0.5870215207569727, 0.41297847924302744]\n",
       "1    0.094647  0.000139   [0.8091924625030616, 0.19080753749693835]\n",
       "2    0.186802  0.000488   [0.24668225490122547, 0.7533177450987746]\n",
       "3    0.104088  0.000197   [0.7152103683146681, 0.28478963168533195]\n",
       "4    0.233577  0.000624  [0.027534898824400723, 0.9724651011755993]\n",
       "..        ...       ...                                         ...\n",
       "995  0.117191  0.000256    [0.6201842015323507, 0.3798157984676493]\n",
       "996  0.127268  0.000295    [0.5575214162434782, 0.4424785837565218]\n",
       "997  0.175445  0.000454    [0.3019698671178338, 0.6980301328821662]\n",
       "998  0.160840  0.000408   [0.37500010611029755, 0.6249998938897023]\n",
       "999  0.116070  0.000252   [0.6275716923974178, 0.37242830760258216]\n",
       "\n",
       "[1000 rows x 3 columns]"
      ]
     },
     "execution_count": 13,
     "metadata": {},
     "output_type": "execute_result"
    }
   ],
   "source": [
    "data = {'STD': stds,'Return': R,'Weights':w}\n",
    "scatter = pd.DataFrame(data)\n",
    "scatter"
   ]
  },
  {
   "cell_type": "code",
   "execution_count": 21,
   "id": "9e76ad13",
   "metadata": {},
   "outputs": [
    {
     "name": "stdout",
     "output_type": "stream",
     "text": [
      "Optimal Standard Deviation - 0.08937247183449998\n",
      "Optimal Return - 5.86362457593811e-05\n",
      "Optimal weights - [0.9390397 0.0609603]\n"
     ]
    }
   ],
   "source": [
    "print(f'Optimal Standard Deviation - {scatter[\"STD\"].min()}')\n",
    "print(f'Optimal Return - {scatter.loc[scatter[\"STD\"].idxmin(),\"Return\"]}')\n",
    "print(f'Optimal weights - {scatter.loc[scatter[\"STD\"].idxmin(),\"Weights\"]}')"
   ]
  },
  {
   "cell_type": "code",
   "execution_count": 31,
   "id": "0233daff",
   "metadata": {},
   "outputs": [
    {
     "data": {
      "image/png": "[encoded data removed]",
      "text/plain": [
       "<Figure size 640x480 with 1 Axes>"
      ]
     },
     "metadata": {},
     "output_type": "display_data"
    }
   ],
   "source": [
    "plt.scatter(stds, R)\n",
    "plt.scatter(scatter[\"STD\"].min(),scatter.loc[scatter[\"STD\"].idxmin(),\"Return\"], color=\"yellow\")\n",
    "plt.axvline(x= scatter[\"STD\"].min() , linestyle = '--', color = 'r')\n",
    "plt.title(\"EFFIECIENT FRIONTIER\")\n",
    "plt.xlabel(\"Portfolio Std\")\n",
    "plt.ylabel(\"Portfolio Return\")\n",
    "plt.show()"
   ]
  },
  {
   "cell_type": "code",
   "execution_count": null,
   "id": "06ee8de2",
   "metadata": {},
   "outputs": [],
   "source": []
  },
  {
   "cell_type": "code",
   "execution_count": null,
   "id": "270e81c1",
   "metadata": {},
   "outputs": [],
   "source": []
  },
  {
   "cell_type": "code",
   "execution_count": null,
   "id": "90488c2a",
   "metadata": {},
   "outputs": [],
   "source": []
  },
  {
   "cell_type": "code",
   "execution_count": null,
   "id": "779f1396",
   "metadata": {},
   "outputs": [],
   "source": [
    "\n"
   ]
  }
 ],
 "metadata": {
  "kernelspec": {
   "display_name": "Python 3 (ipykernel)",
   "language": "python",
   "name": "python3"
  },
  "language_info": {
   "codemirror_mode": {
    "name": "ipython",
    "version": 3
   },
   "file_extension": ".py",
   "mimetype": "text/x-python",
   "name": "python",
   "nbconvert_exporter": "python",
   "pygments_lexer": "ipython3",
   "version": "3.11.5"
  }
 },
 "nbformat": 4,
 "nbformat_minor": 5
}
